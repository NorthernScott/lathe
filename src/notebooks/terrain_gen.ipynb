{
 "cells": [
  {
   "cell_type": "markdown",
   "metadata": {},
   "source": [
    "### Import Packages and Set Constants"
   ]
  },
  {
   "cell_type": "code",
   "execution_count": null,
   "metadata": {},
   "outputs": [],
   "source": [
    "import numpy as np\n",
    "import opensimplex as osi\n",
    "import pyvista as pv\n",
    "import pyvistaqt as pvqt\n",
    "import cmocean as cmo\n",
    "from numpy.typing import NDArray\n",
    "from scipy.spatial import KDTree\n",
    "\n",
    "osi.random_seed()\n",
    "\n",
    "np.set_printoptions(suppress=True)\n",
    "\n",
    "init_roughness = 1.5\n",
    "init_strength = 0.4\n",
    "roughness = 2.5\n",
    "persistence = 0.5\n",
    "radius = 6378100\n",
    "recursion = 6\n",
    "octaves = 8\n",
    "zmin = -10000\n",
    "zmax = 10000\n",
    "zrange = zmax-zmin\n",
    "zscale = 0.5e-5\n",
    "num_plates = 48"
   ]
  },
  {
   "cell_type": "markdown",
   "metadata": {},
   "source": [
    "### Initialize Mesh & Create Elevation Noise Feeder Arrays"
   ]
  },
  {
   "cell_type": "code",
   "execution_count": null,
   "metadata": {},
   "outputs": [],
   "source": [
    "mesh = pv.Icosphere(radius=radius, nsub=recursion, center=(0.0,0.0,0.0))\n",
    "raw_elevations: NDArray[np.float64] = np.zeros(len(mesh.points), dtype=np.float64)\n",
    "roughness_values = np.array(object=[(init_roughness * (roughness**i)) / radius for i in range(octaves)])\n",
    "strength_values = np.array(object=[(init_strength * (persistence**i)) / radius for i in range(octaves)])"
   ]
  },
  {
   "cell_type": "markdown",
   "metadata": {},
   "source": [
    "### Generate Elevations"
   ]
  },
  {
   "cell_type": "code",
   "execution_count": null,
   "metadata": {},
   "outputs": [],
   "source": [
    "for i in range(octaves):\n",
    "    rough_verts = mesh.points * roughness_values[i]\n",
    "    octave_elevations = np.ones(len(mesh.points), dtype=np.float64)\n",
    "\n",
    "    for v in range(len(rough_verts)):\n",
    "        octave_elevations[v] = osi.noise4(\n",
    "            x=rough_verts[v][0],\n",
    "            y=rough_verts[v][1],\n",
    "            z=rough_verts[v][2],\n",
    "            w=1,\n",
    "        )\n",
    "\n",
    "    raw_elevations += octave_elevations * strength_values[i] * radius"
   ]
  },
  {
   "cell_type": "markdown",
   "metadata": {},
   "source": [
    "### Create Scalars and Elevations Data Array"
   ]
  },
  {
   "cell_type": "code",
   "execution_count": null,
   "metadata": {},
   "outputs": [],
   "source": [
    "# Calculate elevation scalars.\n",
    "elevation_scalars = (raw_elevations + radius) / radius\n",
    "\n",
    "mesh.point_data[\"Elevation Scalars\"] = elevation_scalars\n",
    "\n",
    "mesh.points[:, 0] *= elevation_scalars  # type: ignore\n",
    "mesh.points[:, 1] *= elevation_scalars  # type: ignore\n",
    "mesh.points[:, 2] *= elevation_scalars  # type: ignore\n",
    "\n",
    "emin = np.min(elevation_scalars)\n",
    "emax = np.max(elevation_scalars)\n",
    "erange = emax - emin\n",
    "\n",
    "# Rescale elevations to zrange.\n",
    "rescaled_elevations = ((elevation_scalars - emin) / erange) * zrange + zmin\n",
    "mesh.point_data[\"Elevations\"] = rescaled_elevations\n",
    "\n",
    "# Create landform array.\n",
    "landforms = rescaled_elevations >= 0 # Each point where rescaled elevation >= 0 is considered land.\n",
    "mesh.point_data[\"Landforms\"] = landforms\n",
    "\n",
    "# Output\n",
    "print(\"Raw Elevations Range:\")\n",
    "print(f\"Min: {np.min(raw_elevations)}   Max: {np.max(raw_elevations)}\\r\\n\")\n",
    "\n",
    "print(\"Elevation Scalars:\")\n",
    "print(f\"Min: {emin}   Max: {emax}\\r\\n\")\n",
    "\n",
    "print(\"Rescaled Elevations:\")\n",
    "print(f\"Min: {np.min(rescaled_elevations)}   Max: {np.max(rescaled_elevations)}\\r\\n\")\n",
    "\n",
    "print(\"Landforms:\")\n",
    "print(landforms)"
   ]
  },
  {
   "cell_type": "markdown",
   "metadata": {},
   "source": [
    "### Warp Mesh to Show Relief"
   ]
  },
  {
   "cell_type": "code",
   "execution_count": null,
   "metadata": {},
   "outputs": [],
   "source": [
    "mesh.compute_normals(inplace=True)\n",
    "mesh.warp_by_scalar(scalars=\"Elevations\", factor=zscale, inplace=True)"
   ]
  },
  {
   "cell_type": "markdown",
   "metadata": {},
   "source": [
    "### Create Tectonic Plates"
   ]
  },
  {
   "cell_type": "code",
   "execution_count": null,
   "metadata": {},
   "outputs": [],
   "source": [
    "plate_centers = mesh.points[np.random.choice(len(mesh.points), num_plates, replace=False)]\n",
    "\n",
    "# Ensure plate_centers contains only finite values\n",
    "if not np.all(np.isfinite(plate_centers)):\n",
    "    raise ValueError(\"plate_centers contains NaN or infinite values\")\n",
    "\n",
    "tree = KDTree(data=plate_centers)\n",
    "distances, plate_indices = tree.query(x=mesh.points)\n",
    "plate_sorted_indices = np.argsort(a=plate_indices)\n",
    "plate_landmask = np.column_stack((plate_indices, landforms))\n",
    "\n",
    "mesh.point_data[\"Tectonic Plates Mask\"] = plate_landmask\n",
    "\n",
    "mesh.point_data[\"Tectonic Plates\"] = plate_indices"
   ]
  },
  {
   "cell_type": "markdown",
   "metadata": {},
   "source": [
    "### Move the Plates"
   ]
  },
  {
   "cell_type": "code",
   "execution_count": null,
   "metadata": {
    "vscode": {
     "languageId": "ruby"
    }
   },
   "outputs": [],
   "source": [
    "# Generate random vectors in the XY plane for each plate\n",
    "random_vectors = np.random.rand(num_plates, 2) * 2 - 1  # Random values in range [-1, 1]\n",
    "normalized_vectors = random_vectors\n",
    "normalized_vectors /= np.linalg.norm(random_vectors, axis=1, keepdims=True)  # Normalize vectors\n",
    "\n",
    "# Apply the random vectors to the mesh points based on plate indices\n",
    "for plate_index in range(num_plates):\n",
    "    print(plate_index)\n",
    "    print()\n",
    "    mask = plate_indices == plate_index\n",
    "    mesh.points[plate_index, 0] += normalized_vectors[plate_index, 0]  # Apply X component\n",
    "    print(mesh.points[mask, 0])\n",
    "    print()\n",
    "    mesh.points[plate_index, 1] += normalized_vectors[plate_index, 1]  # Apply Y component\n",
    "    print(mesh.points[mask, 1])\n",
    "    print()"
   ]
  },
  {
   "cell_type": "markdown",
   "metadata": {},
   "source": [
    "### Plot"
   ]
  },
  {
   "cell_type": "code",
   "execution_count": null,
   "metadata": {},
   "outputs": [],
   "source": [
    "pv.set_plot_theme(\"dark\")  # type: ignore\n",
    "pv.global_theme.lighting = False\n",
    "\n",
    "plotter = pv.Plotter(notebook=True)\n",
    "\n",
    "tectonic_plates_annotations: dict = {i: str(object=f\"Plate {i}\") for i in range(0, np.max(plate_indices))}\n",
    "\n",
    "tectonic_color_map = pv.LookupTable(\n",
    "    cmap=\"Accent\",\n",
    "    n_values=num_plates,\n",
    "    flip=False,\n",
    "    values=None,\n",
    "    value_range=None,\n",
    "    hue_range=None,\n",
    "    alpha_range=None,\n",
    "    scalar_range=(np.min(plate_indices), np.max(plate_indices)),\n",
    "    log_scale=None,\n",
    "    nan_color=None,\n",
    "    above_range_color=None,\n",
    "    below_range_color=None,\n",
    "    ramp=None,\n",
    "    annotations=tectonic_plates_annotations,\n",
    ")\n",
    "\n",
    "# plotter.add_mesh(\n",
    "#     mesh,\n",
    "#     scalars=\"Tectonic Plates\",\n",
    "#     cmap=\"Accent\",\n",
    "#     opacity=1,\n",
    "#     # categories=True,\n",
    "#     # annotations=tectonic_plates_annotations,\n",
    "# )\n",
    "\n",
    "plotter.add_mesh(\n",
    "    mesh,\n",
    "    scalars=\"Elevations\",\n",
    "    cmap=\"cmo.topo\",\n",
    "    categories=False,\n",
    "    pickable=False,\n",
    "    preference=\"point\",\n",
    "    style=\"surface\",\n",
    "    pbr=True,\n",
    "    roughness=0.75,\n",
    "    copy_mesh=False\n",
    ")\n",
    "\n",
    "# plotter.enable_depth_of_field()\n",
    "# plotter.enable_anti_aliasing('ssaa')\n",
    "plotter.show()"
   ]
  }
 ],
 "metadata": {
  "kernelspec": {
   "display_name": ".venv",
   "language": "python",
   "name": "python3"
  },
  "language_info": {
   "codemirror_mode": {
    "name": "ipython",
    "version": 3
   },
   "file_extension": ".py",
   "mimetype": "text/x-python",
   "name": "python",
   "nbconvert_exporter": "python",
   "pygments_lexer": "ipython3",
   "version": "3.13.2"
  }
 },
 "nbformat": 4,
 "nbformat_minor": 2
}
